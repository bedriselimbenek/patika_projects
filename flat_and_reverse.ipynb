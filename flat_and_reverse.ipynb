{
 "cells": [
  {
   "cell_type": "markdown",
   "id": "fdb487ee",
   "metadata": {},
   "source": [
    "# Bir listeyi düzleştiren (flatten) fonksiyon yazın. Elemanları birden çok katmanlı listelerden ([[3],2] gibi) oluşabileceği gibi, non-scalar verilerden de oluşabilir.\n"
   ]
  },
  {
   "cell_type": "code",
   "execution_count": 2,
   "id": "c99e5b78",
   "metadata": {},
   "outputs": [
    {
     "data": {
      "text/plain": [
       "[1, 'a', 'cat', 2, 3, 'dog', 4, 5]"
      ]
     },
     "execution_count": 2,
     "metadata": {},
     "output_type": "execute_result"
    }
   ],
   "source": [
    "my_list = [[1,'a',['cat'],2],[[[3]],'dog'],4,5]\n",
    "\n",
    "my_second_list = []\n",
    "\n",
    "def flatten(n):\n",
    "    for i in n:\n",
    "        if isinstance(i, list):\n",
    "            flatten(i)\n",
    "        else:\n",
    "            my_second_list.append(i)\n",
    "\n",
    "\n",
    "\n",
    "flatten(my_list)\n",
    "my_second_list"
   ]
  },
  {
   "cell_type": "markdown",
   "id": "ec1573d9",
   "metadata": {},
   "source": []
  },
  {
   "cell_type": "markdown",
   "id": "a8e834e5",
   "metadata": {},
   "source": [
    "# Verilen listenin içindeki elemanları tersine döndüren bir fonksiyon yazın. Eğer listenin içindeki elemanlar da liste içeriyorsa onların elemanlarını da tersine döndürün."
   ]
  },
  {
   "cell_type": "code",
   "execution_count": 7,
   "id": "855357f0",
   "metadata": {},
   "outputs": [
    {
     "name": "stdout",
     "output_type": "stream",
     "text": [
      "[[7, 6, 5], [4, 3], [2, 1]]\n"
     ]
    }
   ],
   "source": [
    "my_list=[[1, 2], [3, 4], [5, 6, 7]]\n",
    "\n",
    "\n",
    "def reverse_list(n):\n",
    "    for i in n:\n",
    "        if isinstance(i,list):\n",
    "            i.reverse()\n",
    "    n.reverse()    \n",
    "    return n\n",
    "\n",
    "\n",
    "print(reverse_list(my_list))"
   ]
  }
 ],
 "metadata": {
  "kernelspec": {
   "display_name": "Python 3 (ipykernel)",
   "language": "python",
   "name": "python3"
  },
  "language_info": {
   "codemirror_mode": {
    "name": "ipython",
    "version": 3
   },
   "file_extension": ".py",
   "mimetype": "text/x-python",
   "name": "python",
   "nbconvert_exporter": "python",
   "pygments_lexer": "ipython3",
   "version": "3.9.12"
  }
 },
 "nbformat": 4,
 "nbformat_minor": 5
}
